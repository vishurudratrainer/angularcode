{
  "nbformat": 4,
  "nbformat_minor": 0,
  "metadata": {
    "colab": {
      "provenance": [],
      "authorship_tag": "ABX9TyMd6dzYty/8gsraRsnEoXhb",
      "include_colab_link": true
    },
    "kernelspec": {
      "name": "python3",
      "display_name": "Python 3"
    },
    "language_info": {
      "name": "python"
    }
  },
  "cells": [
    {
      "cell_type": "markdown",
      "metadata": {
        "id": "view-in-github",
        "colab_type": "text"
      },
      "source": [
        "<a href=\"https://colab.research.google.com/github/vishurudratrainer/angularcode/blob/main/19June2025jpmc.ipynb\" target=\"_parent\"><img src=\"https://colab.research.google.com/assets/colab-badge.svg\" alt=\"Open In Colab\"/></a>"
      ]
    },
    {
      "cell_type": "code",
      "execution_count": null,
      "metadata": {
        "id": "ppo8KfTpd7uu"
      },
      "outputs": [],
      "source": [
        "#OOP\n",
        "#Python is an OOP\n",
        "#classes and object\n",
        "#Python 3"
      ]
    },
    {
      "cell_type": "code",
      "source": [
        "a = 2\n",
        "print(type(a))#Python 3 is more OOP as compared to Python"
      ],
      "metadata": {
        "colab": {
          "base_uri": "https://localhost:8080/"
        },
        "id": "tm8mpzXUeZi1",
        "outputId": "374e4ad1-44fe-4166-c422-1eb7bd087727"
      },
      "execution_count": 1,
      "outputs": [
        {
          "output_type": "stream",
          "name": "stdout",
          "text": [
            "<class 'int'>\n"
          ]
        }
      ]
    },
    {
      "cell_type": "code",
      "source": [
        "class Sample:\n",
        "  #Constructor __init__\n",
        "  #Any function which we create will always have self as first argument\n",
        "  def __init__(self,n1,n2):\n",
        "    self.n1=n1\n",
        "    self.n2=n2\n",
        "  def display(self):\n",
        "    print(\"n1\",self.n1,\"n2\",self.n2)"
      ],
      "metadata": {
        "id": "P3wTnejNecSa"
      },
      "execution_count": 2,
      "outputs": []
    },
    {
      "cell_type": "code",
      "source": [
        "s1 = Sample(22,33)\n",
        "s1.display()"
      ],
      "metadata": {
        "colab": {
          "base_uri": "https://localhost:8080/"
        },
        "id": "00ZA91cKfadb",
        "outputId": "60b6c2e5-9207-4251-e068-cbe087608ca6"
      },
      "execution_count": 3,
      "outputs": [
        {
          "output_type": "stream",
          "name": "stdout",
          "text": [
            "n1 22 n2 33\n"
          ]
        }
      ]
    },
    {
      "cell_type": "code",
      "source": [
        "s2 =Sample(10,20)\n",
        "s2.display()\n",
        "print(s2.n1)"
      ],
      "metadata": {
        "colab": {
          "base_uri": "https://localhost:8080/"
        },
        "id": "5sZElWz2gF84",
        "outputId": "54b1c606-d48e-43de-cf9a-80f4dbb911de"
      },
      "execution_count": 6,
      "outputs": [
        {
          "output_type": "stream",
          "name": "stdout",
          "text": [
            "n1 10 n2 20\n",
            "10\n"
          ]
        }
      ]
    },
    {
      "cell_type": "code",
      "source": [
        "class DefaultArgsClass:\n",
        "  def __init__(self,n1=10,n2=0):\n",
        "    self.n1=n1\n",
        "    self.n2=n2\n",
        "  def display(self):\n",
        "    print(\"n1\",self.n1,\"n2\",self.n2)\n"
      ],
      "metadata": {
        "id": "8dmD9Qc2gVZX"
      },
      "execution_count": 10,
      "outputs": []
    },
    {
      "cell_type": "code",
      "source": [
        "d1 = DefaultArgsClass(22)\n",
        "d1.display()"
      ],
      "metadata": {
        "colab": {
          "base_uri": "https://localhost:8080/"
        },
        "id": "EZHI8xmrh-L-",
        "outputId": "3eb3ac73-e208-44f2-f83e-1b2afd801b51"
      },
      "execution_count": 11,
      "outputs": [
        {
          "output_type": "stream",
          "name": "stdout",
          "text": [
            "n1 22 n2 0\n"
          ]
        }
      ]
    },
    {
      "cell_type": "code",
      "source": [
        "d2 =DefaultArgsClass(22,33)\n",
        "d2.display()"
      ],
      "metadata": {
        "colab": {
          "base_uri": "https://localhost:8080/"
        },
        "id": "QsIcR1j1iEL6",
        "outputId": "e3a569f0-56e7-40d2-9356-a32b46919e8d"
      },
      "execution_count": 12,
      "outputs": [
        {
          "output_type": "stream",
          "name": "stdout",
          "text": [
            "n1 22 n2 33\n"
          ]
        }
      ]
    },
    {
      "cell_type": "code",
      "source": [
        "d3 = DefaultArgsClass()\n",
        "d3.display()"
      ],
      "metadata": {
        "colab": {
          "base_uri": "https://localhost:8080/"
        },
        "id": "TmhyEHHgiHdN",
        "outputId": "378475cc-8166-48a8-bb44-8eb6c56a1072"
      },
      "execution_count": 13,
      "outputs": [
        {
          "output_type": "stream",
          "name": "stdout",
          "text": [
            "n1 10 n2 0\n"
          ]
        }
      ]
    },
    {
      "cell_type": "code",
      "source": [],
      "metadata": {
        "id": "nMToKYFejoW0"
      },
      "execution_count": null,
      "outputs": []
    },
    {
      "cell_type": "code",
      "source": [
        "d4 = DefaultArgsClass(n2=22)#Positional argument respect position. We can use parameter nam as a way to avoid position\n",
        "d4.display()\n",
        "#Keyword arguments respect name of param\n",
        "#Positional argument respect position"
      ],
      "metadata": {
        "colab": {
          "base_uri": "https://localhost:8080/"
        },
        "id": "4iK_wUwgikf2",
        "outputId": "54d36a49-4bcb-4bfc-bdf9-e0e8765bbf27"
      },
      "execution_count": 14,
      "outputs": [
        {
          "output_type": "stream",
          "name": "stdout",
          "text": [
            "n1 10 n2 22\n"
          ]
        }
      ]
    },
    {
      "cell_type": "code",
      "source": [
        "class DefaultArgsClass1:\n",
        "  def __init__(self,n1,n2=0):\n",
        "    self.n1=n1\n",
        "    self.n2=n2\n",
        "  def display(self):\n",
        "    print(\"n1\",self.n1,\"n2\",self.n2)\n"
      ],
      "metadata": {
        "id": "MpqwlzC4jkmz"
      },
      "execution_count": 15,
      "outputs": []
    },
    {
      "cell_type": "code",
      "source": [
        "d1 = DefaultArgsClass1(n2=10)\n",
        "d1.display()"
      ],
      "metadata": {
        "colab": {
          "base_uri": "https://localhost:8080/",
          "height": 179
        },
        "id": "5S3tJxN0kzTr",
        "outputId": "8894c8d7-73a2-4c77-db2d-2b02b4241651"
      },
      "execution_count": 16,
      "outputs": [
        {
          "output_type": "error",
          "ename": "TypeError",
          "evalue": "DefaultArgsClass1.__init__() missing 1 required positional argument: 'n1'",
          "traceback": [
            "\u001b[0;31m---------------------------------------------------------------------------\u001b[0m",
            "\u001b[0;31mTypeError\u001b[0m                                 Traceback (most recent call last)",
            "\u001b[0;32m/tmp/ipython-input-16-1720219290.py\u001b[0m in \u001b[0;36m<cell line: 0>\u001b[0;34m()\u001b[0m\n\u001b[0;32m----> 1\u001b[0;31m \u001b[0md1\u001b[0m \u001b[0;34m=\u001b[0m \u001b[0mDefaultArgsClass1\u001b[0m\u001b[0;34m(\u001b[0m\u001b[0mn2\u001b[0m\u001b[0;34m=\u001b[0m\u001b[0;36m10\u001b[0m\u001b[0;34m)\u001b[0m\u001b[0;34m\u001b[0m\u001b[0;34m\u001b[0m\u001b[0m\n\u001b[0m\u001b[1;32m      2\u001b[0m \u001b[0md1\u001b[0m\u001b[0;34m.\u001b[0m\u001b[0mdisplay\u001b[0m\u001b[0;34m(\u001b[0m\u001b[0;34m)\u001b[0m\u001b[0;34m\u001b[0m\u001b[0;34m\u001b[0m\u001b[0m\n",
            "\u001b[0;31mTypeError\u001b[0m: DefaultArgsClass1.__init__() missing 1 required positional argument: 'n1'"
          ]
        }
      ]
    },
    {
      "cell_type": "code",
      "source": [
        "d1 = DefaultArgsClass(22)\n",
        "d1.display()"
      ],
      "metadata": {
        "colab": {
          "base_uri": "https://localhost:8080/"
        },
        "id": "D1LNquypk3vz",
        "outputId": "97bba689-e331-4bc1-c856-946f93e689d8"
      },
      "execution_count": 17,
      "outputs": [
        {
          "output_type": "stream",
          "name": "stdout",
          "text": [
            "n1 22 n2 0\n"
          ]
        }
      ]
    },
    {
      "cell_type": "code",
      "source": [
        "d1.n3=34\n",
        "print(d1.n3)"
      ],
      "metadata": {
        "colab": {
          "base_uri": "https://localhost:8080/"
        },
        "id": "EEtv5KAqmoG7",
        "outputId": "f13686b1-47e8-4265-87fd-e906e977fdb3"
      },
      "execution_count": 18,
      "outputs": [
        {
          "output_type": "stream",
          "name": "stdout",
          "text": [
            "34\n"
          ]
        }
      ]
    },
    {
      "cell_type": "code",
      "source": [
        "class DefaultArgsClass3:\n",
        "  def __init__(self,n1,n2):\n",
        "    self.n1=n1\n",
        "    self.n2=n2\n",
        "  def display(self):\n",
        "    print(\"n1\",self.n1,\"n2\",self.n2)\n"
      ],
      "metadata": {
        "id": "nY8Apedamq7W"
      },
      "execution_count": 19,
      "outputs": []
    },
    {
      "cell_type": "code",
      "source": [
        "d3=DefaultArgsClass3(n1=10,n2=20)\n",
        "d3.display()"
      ],
      "metadata": {
        "colab": {
          "base_uri": "https://localhost:8080/"
        },
        "id": "u5nT6P9Km80h",
        "outputId": "35dc9c01-dea2-4009-dc92-00970317aceb"
      },
      "execution_count": 20,
      "outputs": [
        {
          "output_type": "stream",
          "name": "stdout",
          "text": [
            "n1 10 n2 20\n"
          ]
        }
      ]
    },
    {
      "cell_type": "code",
      "source": [
        "class Calculator:\n",
        "  def __init__(self,n1,n2):\n",
        "    self.n1=n1\n",
        "    self.n2=n2\n",
        "    self.res =0\n",
        "  def add(self,n1,n2):\n",
        "    self.res = n1+n2\n",
        "  def sub(self):\n",
        "    self.res = self.n1-self.n2\n",
        "  def mul(self):\n",
        "    self.res = self.n1*self.n2\n",
        "  def div(self):\n",
        "    self.res = self.n1/self.n2"
      ],
      "metadata": {
        "id": "Btq1TTr5nD9Y"
      },
      "execution_count": 25,
      "outputs": []
    },
    {
      "cell_type": "code",
      "source": [
        "c1 =Calculator(10,2)\n",
        "c1.add(13,20)\n",
        "print(c1.res)\n",
        "c1.mul()\n",
        "print(c1.res)"
      ],
      "metadata": {
        "colab": {
          "base_uri": "https://localhost:8080/"
        },
        "id": "iojZ_ZawoGV2",
        "outputId": "c4aaa384-907b-43f8-b7fe-8b5ef7b7904a"
      },
      "execution_count": 26,
      "outputs": [
        {
          "output_type": "stream",
          "name": "stdout",
          "text": [
            "33\n",
            "20\n"
          ]
        }
      ]
    },
    {
      "cell_type": "code",
      "source": [
        "c1.__dict__"
      ],
      "metadata": {
        "colab": {
          "base_uri": "https://localhost:8080/"
        },
        "id": "D86VhJ2ioKRv",
        "outputId": "9f2b1cfb-3e2f-48b3-8934-c602c35ca097"
      },
      "execution_count": 27,
      "outputs": [
        {
          "output_type": "execute_result",
          "data": {
            "text/plain": [
              "{'n1': 10, 'n2': 2, 'res': 20}"
            ]
          },
          "metadata": {},
          "execution_count": 27
        }
      ]
    },
    {
      "cell_type": "code",
      "source": [
        "c1.__dict__.get(\"n1\")"
      ],
      "metadata": {
        "colab": {
          "base_uri": "https://localhost:8080/"
        },
        "id": "PAKXow8Hp7TY",
        "outputId": "dfa6f6df-e7be-4330-dddd-ffee69aece8e"
      },
      "execution_count": 28,
      "outputs": [
        {
          "output_type": "execute_result",
          "data": {
            "text/plain": [
              "10"
            ]
          },
          "metadata": {},
          "execution_count": 28
        }
      ]
    },
    {
      "cell_type": "code",
      "source": [
        "class WithoutSlotsEg:\n",
        "  def __init__(self,a,b):\n",
        "    self.a=a\n",
        "    self.b=b"
      ],
      "metadata": {
        "id": "4TOZDvYTq2D3"
      },
      "execution_count": 32,
      "outputs": []
    },
    {
      "cell_type": "code",
      "source": [
        "w1 =WithoutSlotsEg(10,20)\n",
        "w1.c=45\n",
        "print(w1.c)"
      ],
      "metadata": {
        "colab": {
          "base_uri": "https://localhost:8080/"
        },
        "id": "H7JQMkowq512",
        "outputId": "b81ee185-83af-419f-b41c-d537dd263fc8"
      },
      "execution_count": 33,
      "outputs": [
        {
          "output_type": "stream",
          "name": "stdout",
          "text": [
            "45\n"
          ]
        }
      ]
    },
    {
      "cell_type": "code",
      "source": [
        "class SlotsEg:\n",
        "  __slots__=[\"a\",\"b\"] #restrict dynamic attributes\n",
        "  def __init__(self,a,b):\n",
        "    self.a=a\n",
        "    self.b=b"
      ],
      "metadata": {
        "id": "WERqqACRqKSZ"
      },
      "execution_count": 29,
      "outputs": []
    },
    {
      "cell_type": "code",
      "source": [
        "s1 =SlotsEg(10,20)"
      ],
      "metadata": {
        "id": "tPljwHcDqqua"
      },
      "execution_count": 30,
      "outputs": []
    },
    {
      "cell_type": "code",
      "source": [
        "s1.c=45"
      ],
      "metadata": {
        "colab": {
          "base_uri": "https://localhost:8080/",
          "height": 144
        },
        "id": "LalMNOVGqtlb",
        "outputId": "60582433-c7cd-4487-d744-fd08265ee9dd"
      },
      "execution_count": 31,
      "outputs": [
        {
          "output_type": "error",
          "ename": "AttributeError",
          "evalue": "'SlotsEg' object has no attribute 'c'",
          "traceback": [
            "\u001b[0;31m---------------------------------------------------------------------------\u001b[0m",
            "\u001b[0;31mAttributeError\u001b[0m                            Traceback (most recent call last)",
            "\u001b[0;32m/tmp/ipython-input-31-1980896520.py\u001b[0m in \u001b[0;36m<cell line: 0>\u001b[0;34m()\u001b[0m\n\u001b[0;32m----> 1\u001b[0;31m \u001b[0ms1\u001b[0m\u001b[0;34m.\u001b[0m\u001b[0mc\u001b[0m\u001b[0;34m=\u001b[0m\u001b[0;36m45\u001b[0m\u001b[0;34m\u001b[0m\u001b[0;34m\u001b[0m\u001b[0m\n\u001b[0m",
            "\u001b[0;31mAttributeError\u001b[0m: 'SlotsEg' object has no attribute 'c'"
          ]
        }
      ]
    },
    {
      "cell_type": "code",
      "source": [
        "#Python PL which supports Inheritance\n",
        "#Multiple Inheritance---Ambuguity"
      ],
      "metadata": {
        "id": "GVoECB7_qvTb"
      },
      "execution_count": 34,
      "outputs": []
    },
    {
      "cell_type": "code",
      "source": [
        "class Parent1:\n",
        "  def __init__(self,p1):\n",
        "    self.p1=p1\n",
        "  def displayP1(self):\n",
        "    print(\"p1 is\",self.p1)"
      ],
      "metadata": {
        "id": "vIVCkZqpspdN"
      },
      "execution_count": 35,
      "outputs": []
    },
    {
      "cell_type": "code",
      "source": [
        "class Child1(Parent1):#Child is extending from Parent1\n",
        "  def __init__(self,p1,c1):\n",
        "    super().__init__(p1)#Call base class consturctor\n",
        "    self.c1=c1\n",
        "  def displayC1(self):\n",
        "    print(\"c1 is\",self.c1)"
      ],
      "metadata": {
        "id": "Uc_4hZ8ZszOY"
      },
      "execution_count": 36,
      "outputs": []
    },
    {
      "cell_type": "code",
      "source": [
        "c1= Child1(22,33)"
      ],
      "metadata": {
        "id": "DfNbd1hVs9tg"
      },
      "execution_count": 37,
      "outputs": []
    },
    {
      "cell_type": "code",
      "source": [
        "c1.displayP1()"
      ],
      "metadata": {
        "colab": {
          "base_uri": "https://localhost:8080/"
        },
        "id": "Um7EXkZutAZk",
        "outputId": "cb56d92c-1453-4cb9-84db-ecf077d5d0f7"
      },
      "execution_count": 38,
      "outputs": [
        {
          "output_type": "stream",
          "name": "stdout",
          "text": [
            "p1 is 22\n"
          ]
        }
      ]
    },
    {
      "cell_type": "code",
      "source": [
        "c1.displayC1()"
      ],
      "metadata": {
        "colab": {
          "base_uri": "https://localhost:8080/"
        },
        "id": "Nw4kM6_rtCGB",
        "outputId": "9ec22dd8-8519-4176-e2e3-9169a597c8b7"
      },
      "execution_count": 39,
      "outputs": [
        {
          "output_type": "stream",
          "name": "stdout",
          "text": [
            "c1 is 33\n"
          ]
        }
      ]
    },
    {
      "cell_type": "code",
      "source": [
        "c1.p1"
      ],
      "metadata": {
        "colab": {
          "base_uri": "https://localhost:8080/"
        },
        "id": "RwlaFSobtEDK",
        "outputId": "f6408cb1-15ae-4a37-b0cd-6143770b47e8"
      },
      "execution_count": 40,
      "outputs": [
        {
          "output_type": "execute_result",
          "data": {
            "text/plain": [
              "22"
            ]
          },
          "metadata": {},
          "execution_count": 40
        }
      ]
    },
    {
      "cell_type": "code",
      "source": [
        "class Child2(Parent1):\n",
        "  def __init__(self, p1,p2):\n",
        "    Parent1.__init__(self,p1)\n",
        "    self.p2 =p2\n",
        "  def displayP2(self):\n",
        "    print(\"p2 is\",self.p2)\n",
        "  def displayP1(self):\n",
        "    return \"Changed implementation \"+ str(self.p1)"
      ],
      "metadata": {
        "id": "wjRZAiDptWjJ"
      },
      "execution_count": 45,
      "outputs": []
    },
    {
      "cell_type": "code",
      "source": [
        "c2 = Child2(22,33)"
      ],
      "metadata": {
        "id": "udbgmdqPuOqr"
      },
      "execution_count": 46,
      "outputs": []
    },
    {
      "cell_type": "code",
      "source": [
        "c2.displayP1()"
      ],
      "metadata": {
        "colab": {
          "base_uri": "https://localhost:8080/",
          "height": 35
        },
        "id": "Ce6GQ6AnuRSH",
        "outputId": "3e5c9e3e-acfc-4ae6-cccd-354b57e5ba10"
      },
      "execution_count": 47,
      "outputs": [
        {
          "output_type": "execute_result",
          "data": {
            "text/plain": [
              "'Changed implementation 22'"
            ],
            "application/vnd.google.colaboratory.intrinsic+json": {
              "type": "string"
            }
          },
          "metadata": {},
          "execution_count": 47
        }
      ]
    },
    {
      "cell_type": "code",
      "source": [
        "c2.displayP2()"
      ],
      "metadata": {
        "colab": {
          "base_uri": "https://localhost:8080/"
        },
        "id": "kBNNFA-RuSsP",
        "outputId": "edb54c09-021f-48ae-82dd-cb732d8d98cd"
      },
      "execution_count": 48,
      "outputs": [
        {
          "output_type": "stream",
          "name": "stdout",
          "text": [
            "p2 is 33\n"
          ]
        }
      ]
    },
    {
      "cell_type": "code",
      "source": [
        "class Parent2:\n",
        "  def __init__(self,p1):\n",
        "    self.p1=p1\n",
        "  def display(self):\n",
        "    print(\"p1 is\",self.p1)\n",
        "  def displayP1(self):\n",
        "    print(\"p1 is\",self.p1)"
      ],
      "metadata": {
        "id": "ugok6ZPNuUyF"
      },
      "execution_count": 53,
      "outputs": []
    },
    {
      "cell_type": "code",
      "source": [
        "class Parent3:\n",
        "  def __init__(self,p2):\n",
        "    self.p2=p2\n",
        "  def display(self):\n",
        "    print(\"p2 is\",self.p2)\n",
        "  def displayP2(self):\n",
        "    print(\"p2 is\",self.p2)"
      ],
      "metadata": {
        "id": "J7jEO3GWwpdr"
      },
      "execution_count": 54,
      "outputs": []
    },
    {
      "cell_type": "code",
      "source": [
        "class Child3(Parent3,Parent2):#Give importance Sequence of ineritance\n",
        "  def __init__(self,p1,p2,c1):\n",
        "    Parent2.__init__(self,p1)\n",
        "    Parent3.__init__(self,p2)\n",
        "    self.c1=c1"
      ],
      "metadata": {
        "id": "R-jJDVsewtbf"
      },
      "execution_count": 63,
      "outputs": []
    },
    {
      "cell_type": "code",
      "source": [
        "c3= Child3(22,33,44)\n",
        "c3.display()"
      ],
      "metadata": {
        "colab": {
          "base_uri": "https://localhost:8080/"
        },
        "id": "cSxHu7Gxw3gk",
        "outputId": "9c5c8fa7-fa07-4c5b-b55e-727744fef19d"
      },
      "execution_count": 64,
      "outputs": [
        {
          "output_type": "stream",
          "name": "stdout",
          "text": [
            "p2 is 33\n"
          ]
        }
      ]
    },
    {
      "cell_type": "code",
      "source": [
        "c3.displayP1()"
      ],
      "metadata": {
        "colab": {
          "base_uri": "https://localhost:8080/"
        },
        "id": "Q7-iksxWxQku",
        "outputId": "c4ffb06e-4693-4fa0-c5d6-665a37aa9f1e"
      },
      "execution_count": 57,
      "outputs": [
        {
          "output_type": "stream",
          "name": "stdout",
          "text": [
            "p1 is 22\n"
          ]
        }
      ]
    },
    {
      "cell_type": "code",
      "source": [
        "c3.displayP2()"
      ],
      "metadata": {
        "colab": {
          "base_uri": "https://localhost:8080/"
        },
        "id": "s0A57XEbxwWs",
        "outputId": "f13998c9-22f7-4b97-d7a0-c0797911a44c"
      },
      "execution_count": 58,
      "outputs": [
        {
          "output_type": "stream",
          "name": "stdout",
          "text": [
            "p2 is 33\n"
          ]
        }
      ]
    },
    {
      "cell_type": "code",
      "source": [
        "class Stringified:\n",
        "  def __init__(self,n1,n2):\n",
        "    self.n1=n1\n",
        "    self.n2=n2\n",
        "  def __str__(self):#equivalent of .toString\n",
        "    return \"n1 is \"+str(self.n1)+\" n2 is \"+str(self.n2)"
      ],
      "metadata": {
        "id": "b3vhXyaFx3QJ"
      },
      "execution_count": 77,
      "outputs": []
    },
    {
      "cell_type": "code",
      "source": [
        "s1=Stringified(10,20)"
      ],
      "metadata": {
        "id": "28GrSe8Bzph7"
      },
      "execution_count": 78,
      "outputs": []
    },
    {
      "cell_type": "code",
      "source": [
        "print(str(s1))"
      ],
      "metadata": {
        "colab": {
          "base_uri": "https://localhost:8080/"
        },
        "id": "IIcKxgRFzrqp",
        "outputId": "2b5bcfbe-3ba7-43a4-cc1a-554a79e11abe"
      },
      "execution_count": 79,
      "outputs": [
        {
          "output_type": "stream",
          "name": "stdout",
          "text": [
            "n1 is 10 n2 is 20\n"
          ]
        }
      ]
    },
    {
      "cell_type": "code",
      "source": [
        "print(s1)"
      ],
      "metadata": {
        "colab": {
          "base_uri": "https://localhost:8080/"
        },
        "id": "i8xWFl37zuh9",
        "outputId": "e4b8b48d-feec-4e5c-b8b7-e476508665bc"
      },
      "execution_count": 80,
      "outputs": [
        {
          "output_type": "stream",
          "name": "stdout",
          "text": [
            "n1 is 10 n2 is 20\n"
          ]
        }
      ]
    },
    {
      "cell_type": "code",
      "source": [
        "#Operator overloading supported in python"
      ],
      "metadata": {
        "id": "NMzH8dgszwon"
      },
      "execution_count": null,
      "outputs": []
    },
    {
      "cell_type": "code",
      "source": [
        "class Complex:\n",
        "  def __init__(self,real,img):\n",
        "    self.real=real\n",
        "    self.img=img\n",
        "\n",
        "  def add(self,c2):\n",
        "    r1 =self.real+c2.real\n",
        "    i1=self.img+c2.img\n",
        "    return Complex(r1,i1)\n",
        "  def __str__(self) :\n",
        "    return \"Real \"+str(self.real)+\"+Imaginary\"+str(self.img)\n",
        ""
      ],
      "metadata": {
        "id": "gSK_c9pH1z2M"
      },
      "execution_count": 81,
      "outputs": []
    },
    {
      "cell_type": "code",
      "source": [
        "c1=Complex(10,20)"
      ],
      "metadata": {
        "id": "d9x_NSvd2M8T"
      },
      "execution_count": 82,
      "outputs": []
    },
    {
      "cell_type": "code",
      "source": [
        "c2 =Complex(30,40)"
      ],
      "metadata": {
        "id": "BAFZ5wfe2PcG"
      },
      "execution_count": 83,
      "outputs": []
    },
    {
      "cell_type": "code",
      "source": [
        "c3 = c1.add(c2)\n",
        "print(c3)"
      ],
      "metadata": {
        "colab": {
          "base_uri": "https://localhost:8080/"
        },
        "id": "chPaiJOz2RfS",
        "outputId": "cd077d33-0522-4a28-e94d-f14999ae095f"
      },
      "execution_count": 84,
      "outputs": [
        {
          "output_type": "stream",
          "name": "stdout",
          "text": [
            "40+i60\n"
          ]
        }
      ]
    },
    {
      "cell_type": "code",
      "source": [
        "type(c1)"
      ],
      "metadata": {
        "colab": {
          "base_uri": "https://localhost:8080/",
          "height": 103
        },
        "id": "z1JvSVOK2Wj3",
        "outputId": "3eaebfa4-d09d-4ddc-a067-34b24ed5fd1d"
      },
      "execution_count": 85,
      "outputs": [
        {
          "output_type": "execute_result",
          "data": {
            "text/plain": [
              "__main__.Complex"
            ],
            "text/html": [
              "<div style=\"max-width:800px; border: 1px solid var(--colab-border-color);\"><style>\n",
              "      pre.function-repr-contents {\n",
              "        overflow-x: auto;\n",
              "        padding: 8px 12px;\n",
              "        max-height: 500px;\n",
              "      }\n",
              "\n",
              "      pre.function-repr-contents.function-repr-contents-collapsed {\n",
              "        cursor: pointer;\n",
              "        max-height: 100px;\n",
              "      }\n",
              "    </style>\n",
              "    <pre style=\"white-space: initial; background:\n",
              "         var(--colab-secondary-surface-color); padding: 8px 12px;\n",
              "         border-bottom: 1px solid var(--colab-border-color);\"><b>Complex</b><br/>def __init__(real, img)</pre><pre class=\"function-repr-contents function-repr-contents-collapsed\" style=\"\"><a class=\"filepath\" style=\"display:none\" href=\"#\"></a>&lt;no docstring&gt;</pre></div>"
            ]
          },
          "metadata": {},
          "execution_count": 85
        }
      ]
    },
    {
      "cell_type": "code",
      "source": [
        "class Complex:\n",
        "  def __init__(self,real,img):\n",
        "    self.real=real\n",
        "    self.img=img\n",
        "\n",
        "  def __add__(self,c2):\n",
        "    r1 =self.real+c2.real\n",
        "    i1=self.img+c2.img\n",
        "    return Complex(r1,i1)\n",
        "  def __str__(self) :\n",
        "    return \"Real \"+str(self.real)+\"+Imaginary\"+str(self.img)\n",
        ""
      ],
      "metadata": {
        "id": "3ri39axh4sSW"
      },
      "execution_count": 90,
      "outputs": []
    },
    {
      "cell_type": "code",
      "source": [
        "c1=Complex(10,20)\n",
        "c2 =Complex(30,40)\n",
        "c3 = c1 + c2\n",
        "print(c3)"
      ],
      "metadata": {
        "colab": {
          "base_uri": "https://localhost:8080/"
        },
        "id": "7hIY2Ic14t4I",
        "outputId": "bf4d6bd0-c65d-4ebf-b097-11d91bd9d220"
      },
      "execution_count": 91,
      "outputs": [
        {
          "output_type": "stream",
          "name": "stdout",
          "text": [
            "Real 40+Imaginary60\n"
          ]
        }
      ]
    },
    {
      "cell_type": "code",
      "source": [
        "class Point:\n",
        "  def __init__(self,x,y):\n",
        "    self.x =x\n",
        "    self.y=y\n",
        "  def __str__(self):\n",
        "    return \"x \"+str(self.x) +\" y \"+str(self.y)\n",
        "  def __gt__(self,other):\n",
        "    our =self.x *self.x +self.y*self.y\n",
        "    compare=other.x *other.x+other.y*other.y\n",
        "    return our > compare\n",
        "  def __ge__(self,other):\n",
        "    our =self.x *self.x +self.y*self.y\n",
        "    compare=other.x *other.x+other.y*other.y\n",
        "    return our > compare\n",
        "  def __le__(self,other):\n",
        "    our =self.x *self.x +self.y*self.y\n",
        "    compare=other.x *other.x+other.y*other.y\n",
        "    return our <= compare\n",
        "  def __lt__(self,other):\n",
        "    our =self.x *self.x +self.y*self.y\n",
        "    compare=other.x *other.x+other.y*other.y\n",
        "    return our < compare\n",
        "  def __eq__(self,other):\n",
        "    our =self.x *self.x +self.y*self.y\n",
        "    compare=other.x *other.x+other.y*other.y\n",
        "    return our == compare"
      ],
      "metadata": {
        "id": "rU0RO3Oc4wKS"
      },
      "execution_count": 92,
      "outputs": []
    },
    {
      "cell_type": "code",
      "source": [
        "p1 = Point(1,1)\n",
        "p2 =Point(2,3)"
      ],
      "metadata": {
        "id": "CvD4XSbUAJsQ"
      },
      "execution_count": 93,
      "outputs": []
    },
    {
      "cell_type": "code",
      "source": [
        "print(p1 > p2)"
      ],
      "metadata": {
        "colab": {
          "base_uri": "https://localhost:8080/"
        },
        "id": "3-aCwed0AcaB",
        "outputId": "b7d42e7c-f305-4ecc-cfaf-4a95e512edad"
      },
      "execution_count": 94,
      "outputs": [
        {
          "output_type": "stream",
          "name": "stdout",
          "text": [
            "False\n"
          ]
        }
      ]
    },
    {
      "cell_type": "code",
      "source": [
        "print(p1==p2)"
      ],
      "metadata": {
        "colab": {
          "base_uri": "https://localhost:8080/"
        },
        "id": "BPvwQEjyAejo",
        "outputId": "cc87d2c5-c86b-46f9-ac49-7c9f6d6e1af0"
      },
      "execution_count": 95,
      "outputs": [
        {
          "output_type": "stream",
          "name": "stdout",
          "text": [
            "False\n"
          ]
        }
      ]
    },
    {
      "cell_type": "code",
      "source": [
        "class CounterEg:\n",
        "  counter =0 #Class level variable -shared between objects. They can be accessed using class name\n",
        "  def __init__(self,n1):\n",
        "    self.n1=n1 #Object level variable\n",
        "    CounterEg.counter=CounterEg.counter+1\n"
      ],
      "metadata": {
        "id": "nQIWC13dAgQ8"
      },
      "execution_count": 98,
      "outputs": []
    },
    {
      "cell_type": "code",
      "source": [
        "c1 = CounterEg(22)"
      ],
      "metadata": {
        "id": "O2YVm5yECW0P"
      },
      "execution_count": 99,
      "outputs": []
    },
    {
      "cell_type": "code",
      "source": [
        "c2 =CounterEg(10)"
      ],
      "metadata": {
        "id": "Psj5cLCNCZDm"
      },
      "execution_count": 100,
      "outputs": []
    },
    {
      "cell_type": "code",
      "source": [
        "CounterEg.counter"
      ],
      "metadata": {
        "colab": {
          "base_uri": "https://localhost:8080/"
        },
        "id": "CWlrFSaTCniI",
        "outputId": "7392e7a7-9190-410c-bbef-01a577bb8c97"
      },
      "execution_count": 101,
      "outputs": [
        {
          "output_type": "execute_result",
          "data": {
            "text/plain": [
              "2"
            ]
          },
          "metadata": {},
          "execution_count": 101
        }
      ]
    },
    {
      "cell_type": "code",
      "source": [
        "#Python supports access specifier\n",
        "#Strict in terms of implementation\n",
        "#ways we can retrive private data\n",
        "#More of an indicator\n",
        "#Private __\n",
        "#Protected _\n",
        "#No _ Public"
      ],
      "metadata": {
        "id": "hmGoMNGZCpdX"
      },
      "execution_count": 102,
      "outputs": []
    },
    {
      "cell_type": "code",
      "source": [
        "class PrivateEg:\n",
        "  def __init__(self,p1):\n",
        "    self.p1=p1\n",
        "    self.__p2 =10 #private variable\n",
        "  def __privateDisplay(self):#Private function\n",
        "    print(\"p2\",self.__p2)"
      ],
      "metadata": {
        "id": "VSUYu-EAD1tB"
      },
      "execution_count": 103,
      "outputs": []
    },
    {
      "cell_type": "code",
      "source": [
        "p1 =PrivateEg(20)"
      ],
      "metadata": {
        "id": "Sk3kEtljEUKm"
      },
      "execution_count": 104,
      "outputs": []
    },
    {
      "cell_type": "code",
      "source": [
        "p1.__dict__"
      ],
      "metadata": {
        "colab": {
          "base_uri": "https://localhost:8080/"
        },
        "id": "_9DLQ6rqEfAJ",
        "outputId": "19d05bb6-9bcb-4082-e143-057a1f0a4a1d"
      },
      "execution_count": 105,
      "outputs": [
        {
          "output_type": "execute_result",
          "data": {
            "text/plain": [
              "{'p1': 20, '_PrivateEg__p2': 10}"
            ]
          },
          "metadata": {},
          "execution_count": 105
        }
      ]
    },
    {
      "cell_type": "code",
      "source": [
        "p1.__p2"
      ],
      "metadata": {
        "colab": {
          "base_uri": "https://localhost:8080/",
          "height": 144
        },
        "id": "ZCmO00FhEg5F",
        "outputId": "be42d6f3-b846-46b8-94ce-03da16dd3a4f"
      },
      "execution_count": 106,
      "outputs": [
        {
          "output_type": "error",
          "ename": "AttributeError",
          "evalue": "'PrivateEg' object has no attribute '__p2'",
          "traceback": [
            "\u001b[0;31m---------------------------------------------------------------------------\u001b[0m",
            "\u001b[0;31mAttributeError\u001b[0m                            Traceback (most recent call last)",
            "\u001b[0;32m/tmp/ipython-input-106-615735896.py\u001b[0m in \u001b[0;36m<cell line: 0>\u001b[0;34m()\u001b[0m\n\u001b[0;32m----> 1\u001b[0;31m \u001b[0mp1\u001b[0m\u001b[0;34m.\u001b[0m\u001b[0m__p2\u001b[0m\u001b[0;34m\u001b[0m\u001b[0;34m\u001b[0m\u001b[0m\n\u001b[0m",
            "\u001b[0;31mAttributeError\u001b[0m: 'PrivateEg' object has no attribute '__p2'"
          ]
        }
      ]
    },
    {
      "cell_type": "code",
      "source": [
        "p1._PrivateEg__p2"
      ],
      "metadata": {
        "colab": {
          "base_uri": "https://localhost:8080/"
        },
        "id": "rr8mT9XOEjs1",
        "outputId": "ab2ad560-802c-4e9d-fe0b-dfcaf38a0b28"
      },
      "execution_count": 107,
      "outputs": [
        {
          "output_type": "execute_result",
          "data": {
            "text/plain": [
              "10"
            ]
          },
          "metadata": {},
          "execution_count": 107
        }
      ]
    },
    {
      "cell_type": "code",
      "source": [
        "p1._PrivateEg__privateDisplay()"
      ],
      "metadata": {
        "colab": {
          "base_uri": "https://localhost:8080/"
        },
        "id": "gXlVwIP3EqMg",
        "outputId": "8a8d3363-b735-406c-c83e-94275f813f86"
      },
      "execution_count": 108,
      "outputs": [
        {
          "output_type": "stream",
          "name": "stdout",
          "text": [
            "p2 10\n"
          ]
        }
      ]
    },
    {
      "cell_type": "code",
      "source": [
        "#Meta programming"
      ],
      "metadata": {
        "id": "hRUJc1NGEs-Q"
      },
      "execution_count": 109,
      "outputs": []
    },
    {
      "cell_type": "code",
      "source": [
        "def outer():\n",
        "  print(\"Inside outer function\")\n",
        "  def inner():\n",
        "    print(\"Inside inner function\")\n",
        "  inner()"
      ],
      "metadata": {
        "id": "rYSnvWBjIVxD"
      },
      "execution_count": 110,
      "outputs": []
    },
    {
      "cell_type": "code",
      "source": [
        "outer()"
      ],
      "metadata": {
        "colab": {
          "base_uri": "https://localhost:8080/"
        },
        "id": "ZYnfhaxqIf2X",
        "outputId": "ae783b05-f660-4ec9-9594-fbedef7674b0"
      },
      "execution_count": 111,
      "outputs": [
        {
          "output_type": "stream",
          "name": "stdout",
          "text": [
            "Inside outer function\n",
            "Inside inner function\n"
          ]
        }
      ]
    },
    {
      "cell_type": "code",
      "source": [
        "def outer():\n",
        "  print(\"Inside outer function\")\n",
        "  def inner():\n",
        "    print(\"Inside inner function\")\n",
        "  return inner"
      ],
      "metadata": {
        "id": "hlunKi2FIih1"
      },
      "execution_count": 112,
      "outputs": []
    },
    {
      "cell_type": "code",
      "source": [
        "o1 = outer()"
      ],
      "metadata": {
        "colab": {
          "base_uri": "https://localhost:8080/"
        },
        "id": "G6c3vR93JSg2",
        "outputId": "80873010-8544-41c7-b2a0-612ff6052e57"
      },
      "execution_count": 113,
      "outputs": [
        {
          "output_type": "stream",
          "name": "stdout",
          "text": [
            "Inside outer function\n"
          ]
        }
      ]
    },
    {
      "cell_type": "code",
      "source": [
        "o1()"
      ],
      "metadata": {
        "colab": {
          "base_uri": "https://localhost:8080/"
        },
        "id": "mTp9uaIYJZ3G",
        "outputId": "3ee52e1b-d472-4fd3-a9ad-87cb5c2d7a92"
      },
      "execution_count": 114,
      "outputs": [
        {
          "output_type": "stream",
          "name": "stdout",
          "text": [
            "Inside inner function\n"
          ]
        }
      ]
    },
    {
      "cell_type": "code",
      "source": [
        "def outer(param1):\n",
        "  print(\"outer function\")\n",
        "  def inner():\n",
        "    print(\"inner function\")\n",
        "    print(\"Before calling param1\")\n",
        "    param1()\n",
        "    print(\"After calling param1\")\n",
        "  return inner\n"
      ],
      "metadata": {
        "id": "11TxasPfJa0u"
      },
      "execution_count": 115,
      "outputs": []
    },
    {
      "cell_type": "code",
      "source": [
        "def hello():\n",
        "  print(\"Hello\")"
      ],
      "metadata": {
        "id": "SIB6kdO5Kq5z"
      },
      "execution_count": 116,
      "outputs": []
    },
    {
      "cell_type": "code",
      "source": [
        "o1=outer(hello)"
      ],
      "metadata": {
        "colab": {
          "base_uri": "https://localhost:8080/"
        },
        "id": "GCzprqiMKvC3",
        "outputId": "3809f152-7753-4d85-eebb-da45113b67ac"
      },
      "execution_count": 117,
      "outputs": [
        {
          "output_type": "stream",
          "name": "stdout",
          "text": [
            "outer function\n"
          ]
        }
      ]
    },
    {
      "cell_type": "code",
      "source": [
        "o1()"
      ],
      "metadata": {
        "colab": {
          "base_uri": "https://localhost:8080/"
        },
        "id": "BqBPGzjiKxUZ",
        "outputId": "5b1a813a-d8fd-451c-c836-899e8f580d55"
      },
      "execution_count": 118,
      "outputs": [
        {
          "output_type": "stream",
          "name": "stdout",
          "text": [
            "inner function\n",
            "Before calling param1\n",
            "Hello\n",
            "After calling param1\n"
          ]
        }
      ]
    },
    {
      "cell_type": "code",
      "source": [
        "def outer1(param1):\n",
        "  print(\"outer function\")\n",
        "  def inner1():\n",
        "    print(\"inner function\")\n",
        "    print(\"Before calling param1\")\n",
        "    param1()\n",
        "    return True\n",
        "  return inner1\n"
      ],
      "metadata": {
        "id": "nygEMhgUKyW5"
      },
      "execution_count": 119,
      "outputs": []
    },
    {
      "cell_type": "code",
      "source": [
        "o2=outer1(hello)"
      ],
      "metadata": {
        "colab": {
          "base_uri": "https://localhost:8080/"
        },
        "id": "Us7wx4H9MrvU",
        "outputId": "6198e4d5-8f4e-438e-d7bc-c6452fc3a430"
      },
      "execution_count": 120,
      "outputs": [
        {
          "output_type": "stream",
          "name": "stdout",
          "text": [
            "outer function\n"
          ]
        }
      ]
    },
    {
      "cell_type": "code",
      "source": [
        "res=o2()"
      ],
      "metadata": {
        "colab": {
          "base_uri": "https://localhost:8080/"
        },
        "id": "c6tMP4fGMtsR",
        "outputId": "99c0c3fd-7e99-4bf5-c0fd-80cf4ed29d93"
      },
      "execution_count": 122,
      "outputs": [
        {
          "output_type": "stream",
          "name": "stdout",
          "text": [
            "inner function\n",
            "Before calling param1\n",
            "Hello\n"
          ]
        }
      ]
    },
    {
      "cell_type": "code",
      "source": [
        "res"
      ],
      "metadata": {
        "colab": {
          "base_uri": "https://localhost:8080/"
        },
        "id": "E2tSqPVwMuoK",
        "outputId": "07f2fb04-90f2-4819-e0c4-e472717638bc"
      },
      "execution_count": 123,
      "outputs": [
        {
          "output_type": "execute_result",
          "data": {
            "text/plain": [
              "True"
            ]
          },
          "metadata": {},
          "execution_count": 123
        }
      ]
    },
    {
      "cell_type": "code",
      "source": [
        "def outer2(param1,param2):\n",
        "  print(\"outer function\")\n",
        "  def inner2():\n",
        "    print(\"inner function\")\n",
        "    print(\"Before calling param1\")\n",
        "    param1(param2)\n",
        "    return True\n",
        "  return inner2"
      ],
      "metadata": {
        "id": "-pFFq3ZzMxO_"
      },
      "execution_count": 124,
      "outputs": []
    },
    {
      "cell_type": "code",
      "source": [
        "def square(n):\n",
        "  print(n*n)"
      ],
      "metadata": {
        "id": "KmCDhusNc05r"
      },
      "execution_count": 125,
      "outputs": []
    },
    {
      "cell_type": "code",
      "source": [
        "o3=outer2(square,2)"
      ],
      "metadata": {
        "colab": {
          "base_uri": "https://localhost:8080/"
        },
        "id": "PktxAztBc7TK",
        "outputId": "876440f5-9bd7-434d-80dd-96e1dd241d40"
      },
      "execution_count": 126,
      "outputs": [
        {
          "output_type": "stream",
          "name": "stdout",
          "text": [
            "outer function\n"
          ]
        }
      ]
    },
    {
      "cell_type": "code",
      "source": [
        "o3()"
      ],
      "metadata": {
        "colab": {
          "base_uri": "https://localhost:8080/"
        },
        "id": "9xS425oLc_8b",
        "outputId": "1d8f1db9-024f-44ac-9d60-1372f58123d4"
      },
      "execution_count": 127,
      "outputs": [
        {
          "output_type": "stream",
          "name": "stdout",
          "text": [
            "inner function\n",
            "Before calling param1\n",
            "4\n"
          ]
        },
        {
          "output_type": "execute_result",
          "data": {
            "text/plain": [
              "True"
            ]
          },
          "metadata": {},
          "execution_count": 127
        }
      ]
    },
    {
      "cell_type": "code",
      "source": [
        "def outer3(param1):\n",
        "  print(\"outer function\")\n",
        "  def inner2(param2):\n",
        "    print(\"inner function\")\n",
        "    print(\"Before calling param1\")\n",
        "    param1(param2)\n",
        "    return True\n",
        "  return inner2"
      ],
      "metadata": {
        "id": "ttvbkWHkdA0J"
      },
      "execution_count": 128,
      "outputs": []
    },
    {
      "cell_type": "code",
      "source": [
        "o3 =outer3(square)"
      ],
      "metadata": {
        "colab": {
          "base_uri": "https://localhost:8080/"
        },
        "id": "tE2LM27Kd5zX",
        "outputId": "ffcda26c-69ac-4f4c-f21b-18cc6ace652a"
      },
      "execution_count": 129,
      "outputs": [
        {
          "output_type": "stream",
          "name": "stdout",
          "text": [
            "outer function\n"
          ]
        }
      ]
    },
    {
      "cell_type": "code",
      "source": [
        "res =o3(5)"
      ],
      "metadata": {
        "colab": {
          "base_uri": "https://localhost:8080/"
        },
        "id": "I_OGyXpXd_1S",
        "outputId": "2d7e3525-96e8-449c-85c8-6864991a5000"
      },
      "execution_count": 131,
      "outputs": [
        {
          "output_type": "stream",
          "name": "stdout",
          "text": [
            "inner function\n",
            "Before calling param1\n",
            "25\n"
          ]
        }
      ]
    },
    {
      "cell_type": "code",
      "source": [
        "res"
      ],
      "metadata": {
        "colab": {
          "base_uri": "https://localhost:8080/"
        },
        "id": "VmP-FEKReAwa",
        "outputId": "522ded7b-fb3b-4d0b-ca01-46973adabaf6"
      },
      "execution_count": 132,
      "outputs": [
        {
          "output_type": "execute_result",
          "data": {
            "text/plain": [
              "True"
            ]
          },
          "metadata": {},
          "execution_count": 132
        }
      ]
    },
    {
      "cell_type": "code",
      "source": [
        "def outer(param1):\n",
        "  print(\"outer function\")\n",
        "  def inner():\n",
        "    print(\"inner function\")\n",
        "    print(\"Before calling param1\")\n",
        "    param1()\n",
        "    return True\n",
        "  return inner"
      ],
      "metadata": {
        "id": "PrJyUQl3ee84"
      },
      "execution_count": 133,
      "outputs": []
    },
    {
      "cell_type": "code",
      "source": [
        "@outer#outer(hello2)\n",
        "def hello2():\n",
        "  print(\"Hello\")"
      ],
      "metadata": {
        "colab": {
          "base_uri": "https://localhost:8080/"
        },
        "id": "KLvpr7blewq6",
        "outputId": "617e139a-e18b-48cb-eb01-ef0c44fcdb68"
      },
      "execution_count": 134,
      "outputs": [
        {
          "output_type": "stream",
          "name": "stdout",
          "text": [
            "outer function\n"
          ]
        }
      ]
    },
    {
      "cell_type": "code",
      "source": [
        "print(hello2())"
      ],
      "metadata": {
        "colab": {
          "base_uri": "https://localhost:8080/"
        },
        "id": "619x8vP0e4du",
        "outputId": "baa80279-f05e-4802-e641-bf91428d0843"
      },
      "execution_count": 136,
      "outputs": [
        {
          "output_type": "stream",
          "name": "stdout",
          "text": [
            "inner function\n",
            "Before calling param1\n",
            "Hello\n",
            "True\n"
          ]
        }
      ]
    },
    {
      "cell_type": "code",
      "source": [
        "#Decorator --one function taking another function as argument and calling the inner one using ()"
      ],
      "metadata": {
        "id": "XCXoCd5ke5-t"
      },
      "execution_count": null,
      "outputs": []
    },
    {
      "cell_type": "code",
      "source": [
        "def outer3(param1):\n",
        "  print(\"outer function\")\n",
        "  def inner():\n",
        "    print(\"inner function\")\n",
        "    print(\"Before calling param1\")\n",
        "    param1()\n",
        "    return True\n",
        "  return inner"
      ],
      "metadata": {
        "id": "Vl_bZBexh1yC"
      },
      "execution_count": 137,
      "outputs": []
    },
    {
      "cell_type": "code",
      "source": [
        "def outer4(param1):\n",
        "  print(\"outer4 function\")\n",
        "  def inner():\n",
        "    print(\"inner function in outer4\")\n",
        "    print(\"Before calling param1 in outer4\")\n",
        "    param1()\n",
        "    return True\n",
        "  return inner"
      ],
      "metadata": {
        "id": "Gibmt0sNh7r0"
      },
      "execution_count": 138,
      "outputs": []
    },
    {
      "cell_type": "code",
      "source": [
        "@outer3\n",
        "@outer4\n",
        "def hello3():\n",
        "  print(\"Hello\")\n"
      ],
      "metadata": {
        "colab": {
          "base_uri": "https://localhost:8080/"
        },
        "id": "QDLPw_yiiDq_",
        "outputId": "96df1c1c-f462-4b15-8374-b3467d13b446"
      },
      "execution_count": 139,
      "outputs": [
        {
          "output_type": "stream",
          "name": "stdout",
          "text": [
            "outer4 function\n",
            "outer function\n"
          ]
        }
      ]
    },
    {
      "cell_type": "code",
      "source": [
        "hello3()"
      ],
      "metadata": {
        "colab": {
          "base_uri": "https://localhost:8080/"
        },
        "id": "Abp-Us2AiMN3",
        "outputId": "731322b9-2c0d-4eb8-d7b0-ceb2829a9b75"
      },
      "execution_count": 140,
      "outputs": [
        {
          "output_type": "stream",
          "name": "stdout",
          "text": [
            "inner function\n",
            "Before calling param1\n",
            "inner function in outer4\n",
            "Before calling param1 in outer4\n",
            "Hello\n"
          ]
        },
        {
          "output_type": "execute_result",
          "data": {
            "text/plain": [
              "True"
            ]
          },
          "metadata": {},
          "execution_count": 140
        }
      ]
    },
    {
      "cell_type": "code",
      "source": [
        "def outer2(param1,param2):\n",
        "  print(\"outer function\")\n",
        "  def inner2():\n",
        "    print(\"inner function\")\n",
        "    print(\"Before calling param1\")\n",
        "    param1(param2)\n",
        "    return True\n",
        "  return inner2"
      ],
      "metadata": {
        "id": "cTFUOFZAiNoL"
      },
      "execution_count": 141,
      "outputs": []
    },
    {
      "cell_type": "code",
      "source": [
        "o4 = outer2(square,2)"
      ],
      "metadata": {
        "colab": {
          "base_uri": "https://localhost:8080/"
        },
        "id": "h4LqUBY0ivuk",
        "outputId": "360b3f0d-e6dc-45d6-d614-44b0840382e4"
      },
      "execution_count": 142,
      "outputs": [
        {
          "output_type": "stream",
          "name": "stdout",
          "text": [
            "outer function\n"
          ]
        }
      ]
    },
    {
      "cell_type": "code",
      "source": [
        "print(o4)"
      ],
      "metadata": {
        "colab": {
          "base_uri": "https://localhost:8080/"
        },
        "id": "-5EL5hBxizGK",
        "outputId": "0ec2a822-253b-48fc-8aa1-675326111644"
      },
      "execution_count": 143,
      "outputs": [
        {
          "output_type": "stream",
          "name": "stdout",
          "text": [
            "<function outer2.<locals>.inner2 at 0x7cb0cf06f4c0>\n"
          ]
        }
      ]
    },
    {
      "cell_type": "code",
      "source": [
        "import csv"
      ],
      "metadata": {
        "id": "LDiJf8QCi0Tn"
      },
      "execution_count": 144,
      "outputs": []
    },
    {
      "cell_type": "code",
      "source": [
        "dataLst =[{\"country\":\"IN\",\"currency\":\"INR\"},{\"country\":\"US\",\"currency\":\"USD\"},{\"country\":\"JP\",\"currency\":\"YEN\"}]"
      ],
      "metadata": {
        "id": "Djls_EzRjePz"
      },
      "execution_count": 145,
      "outputs": []
    },
    {
      "cell_type": "code",
      "source": [
        "with open(\"dataLst.csv\",\"w\",newline='') as op:\n",
        "  writer =csv.DictWriter(op,fieldnames=[\"country\",\"currency\"])\n",
        "  writer.writeheader()\n",
        "  writer.writerows(dataLst)"
      ],
      "metadata": {
        "id": "XnqaDDk_jv-z"
      },
      "execution_count": 146,
      "outputs": []
    },
    {
      "cell_type": "code",
      "source": [
        "with open(\"dataLst.csv\",\"r\") as ip:\n",
        "  dr = csv.DictReader(ip)\n",
        "  for row in dr:\n",
        "    print(row)\n"
      ],
      "metadata": {
        "colab": {
          "base_uri": "https://localhost:8080/"
        },
        "id": "NY_Ph-_NlK2D",
        "outputId": "0eb8d187-a382-4817-8414-4743ea7cd79a"
      },
      "execution_count": 147,
      "outputs": [
        {
          "output_type": "stream",
          "name": "stdout",
          "text": [
            "{'country': 'IN', 'currency': 'INR'}\n",
            "{'country': 'US', 'currency': 'USD'}\n",
            "{'country': 'JP', 'currency': 'YEN'}\n"
          ]
        }
      ]
    },
    {
      "cell_type": "code",
      "source": [
        "from lxml import etree"
      ],
      "metadata": {
        "id": "1zGizgJ5lUgr"
      },
      "execution_count": 148,
      "outputs": []
    },
    {
      "cell_type": "code",
      "source": [
        "country = etree.Element(\"country\")\n",
        "name = etree.Element(\"name\")\n",
        "name.text=\"India\"\n",
        "currency =etree.Element(\"currency\")\n",
        "currency.text=\"INR\"\n",
        "country.append(name)\n",
        "country.append(currency)\n",
        "print(etree.tostring(country,pretty_print=True).decode(\"utf-8\"))"
      ],
      "metadata": {
        "colab": {
          "base_uri": "https://localhost:8080/"
        },
        "id": "KJ9j2_eNmso1",
        "outputId": "8590fe3c-6119-4def-ae4b-5096d657446d"
      },
      "execution_count": 150,
      "outputs": [
        {
          "output_type": "stream",
          "name": "stdout",
          "text": [
            "<country>\n",
            "  <name>India</name>\n",
            "  <currency>INR</currency>\n",
            "</country>\n",
            "\n"
          ]
        }
      ]
    },
    {
      "cell_type": "code",
      "source": [
        "xmlstring=(etree.tostring(country,pretty_print=True).decode(\"utf-8\"))"
      ],
      "metadata": {
        "id": "3c70P1jJneON"
      },
      "execution_count": 151,
      "outputs": []
    },
    {
      "cell_type": "code",
      "source": [
        "with open(\"country.xml\",\"w\") as op:\n",
        "  op.write(xmlstring)"
      ],
      "metadata": {
        "id": "xTrDwT_YotOa"
      },
      "execution_count": 152,
      "outputs": []
    },
    {
      "cell_type": "code",
      "source": [],
      "metadata": {
        "id": "O_VZen5sqyhd"
      },
      "execution_count": null,
      "outputs": []
    },
    {
      "cell_type": "code",
      "source": [
        "with open(\"country.xml\",\"r\") as ip:\n",
        "  tree =etree.parse(ip)\n",
        "  root=tree.getroot()\n",
        "  print(root.find(\"name\").text)\n",
        "  print(root.find(\"currency\").text)"
      ],
      "metadata": {
        "colab": {
          "base_uri": "https://localhost:8080/"
        },
        "id": "0YHhstKroyhf",
        "outputId": "1c2f3410-fa49-46be-b7fe-266bae45b49f"
      },
      "execution_count": 154,
      "outputs": [
        {
          "output_type": "stream",
          "name": "stdout",
          "text": [
            "India\n",
            "INR\n"
          ]
        }
      ]
    },
    {
      "cell_type": "code",
      "source": [
        "continents =etree.Element(\"continents\")\n",
        "c1=etree.Element(\"continent\")\n",
        "c1.text=\"Asia\"\n",
        "c2=etree.Element(\"continent\")\n",
        "c2.text=\"Africa\"\n",
        "c3=etree.Element(\"continent\")\n",
        "c3.text=\"America\"\n",
        "continents.append(c1)\n",
        "continents.append(c2)\n",
        "\n",
        "print(etree.tostring(continents,pretty_print=True).decode(\"utf-8\"))"
      ],
      "metadata": {
        "colab": {
          "base_uri": "https://localhost:8080/"
        },
        "id": "SAtjGCmCpRY9",
        "outputId": "aaf59126-d844-468e-fbfb-31dba3ef0bc8"
      },
      "execution_count": 155,
      "outputs": [
        {
          "output_type": "stream",
          "name": "stdout",
          "text": [
            "<continents>\n",
            "  <continent>Asia</continent>\n",
            "  <continent>Africa</continent>\n",
            "</continents>\n",
            "\n"
          ]
        }
      ]
    },
    {
      "cell_type": "code",
      "source": [
        "import requests"
      ],
      "metadata": {
        "id": "vcTYYVBDrbxk"
      },
      "execution_count": 156,
      "outputs": []
    },
    {
      "cell_type": "code",
      "source": [
        "cdData=requests.get(\"https://www.w3schools.com/xml/cd_catalog.xml\")"
      ],
      "metadata": {
        "id": "ZHVWZR-CvHBv"
      },
      "execution_count": 157,
      "outputs": []
    },
    {
      "cell_type": "code",
      "source": [
        "with open(\"cd_catalog.xml\",\"w\") as op:\n",
        "  op.write(cdData.text)"
      ],
      "metadata": {
        "id": "6TVIrSWVvLP6"
      },
      "execution_count": 158,
      "outputs": []
    },
    {
      "cell_type": "code",
      "source": [
        "dataLst = []\n",
        "columns=[\"TITLE\",'ARTIST',\"COUNTRY\",\"COMPANY\",\"PRICE\",\"YEAR\"]\n",
        "with open(\"cd_catalog.xml\",'r') as ip:\n",
        "   tree=etree.parse(ip)\n",
        "   root = tree.getroot()\n",
        "   for cd in root.findall(\"CD\"):\n",
        "     cdDict={}\n",
        "     for col in columns:\n",
        "       cdDict[col]=cd.find(col).text\n",
        "     dataLst.append(cdDict)\n",
        "with open(\"cd.csv\",\"w\") as op:\n",
        "  writer =csv.DictWriter(op,fieldnames=columns)\n",
        "  writer.writeheader()\n",
        "  writer.writerows(dataLst)"
      ],
      "metadata": {
        "id": "OQsOtD2nvRMN"
      },
      "execution_count": 161,
      "outputs": []
    },
    {
      "cell_type": "code",
      "source": [
        "dataLst"
      ],
      "metadata": {
        "colab": {
          "base_uri": "https://localhost:8080/"
        },
        "id": "1QuPmql7v7XD",
        "outputId": "6724bea8-e1a1-4390-827c-9792153caca2"
      },
      "execution_count": 160,
      "outputs": [
        {
          "output_type": "execute_result",
          "data": {
            "text/plain": [
              "[{'TITLE': 'Empire Burlesque',\n",
              "  'ARTIST': 'Bob Dylan',\n",
              "  'COUNTRY': 'USA',\n",
              "  'COMPANY': 'Columbia',\n",
              "  'PRICE': '10.90',\n",
              "  'YEAR': '1985'},\n",
              " {'TITLE': 'Hide your heart',\n",
              "  'ARTIST': 'Bonnie Tyler',\n",
              "  'COUNTRY': 'UK',\n",
              "  'COMPANY': 'CBS Records',\n",
              "  'PRICE': '9.90',\n",
              "  'YEAR': '1988'},\n",
              " {'TITLE': 'Greatest Hits',\n",
              "  'ARTIST': 'Dolly Parton',\n",
              "  'COUNTRY': 'USA',\n",
              "  'COMPANY': 'RCA',\n",
              "  'PRICE': '9.90',\n",
              "  'YEAR': '1982'},\n",
              " {'TITLE': 'Still got the blues',\n",
              "  'ARTIST': 'Gary Moore',\n",
              "  'COUNTRY': 'UK',\n",
              "  'COMPANY': 'Virgin records',\n",
              "  'PRICE': '10.20',\n",
              "  'YEAR': '1990'},\n",
              " {'TITLE': 'Eros',\n",
              "  'ARTIST': 'Eros Ramazzotti',\n",
              "  'COUNTRY': 'EU',\n",
              "  'COMPANY': 'BMG',\n",
              "  'PRICE': '9.90',\n",
              "  'YEAR': '1997'},\n",
              " {'TITLE': 'One night only',\n",
              "  'ARTIST': 'Bee Gees',\n",
              "  'COUNTRY': 'UK',\n",
              "  'COMPANY': 'Polydor',\n",
              "  'PRICE': '10.90',\n",
              "  'YEAR': '1998'},\n",
              " {'TITLE': 'Sylvias Mother',\n",
              "  'ARTIST': 'Dr.Hook',\n",
              "  'COUNTRY': 'UK',\n",
              "  'COMPANY': 'CBS',\n",
              "  'PRICE': '8.10',\n",
              "  'YEAR': '1973'},\n",
              " {'TITLE': 'Maggie May',\n",
              "  'ARTIST': 'Rod Stewart',\n",
              "  'COUNTRY': 'UK',\n",
              "  'COMPANY': 'Pickwick',\n",
              "  'PRICE': '8.50',\n",
              "  'YEAR': '1990'},\n",
              " {'TITLE': 'Romanza',\n",
              "  'ARTIST': 'Andrea Bocelli',\n",
              "  'COUNTRY': 'EU',\n",
              "  'COMPANY': 'Polydor',\n",
              "  'PRICE': '10.80',\n",
              "  'YEAR': '1996'},\n",
              " {'TITLE': 'When a man loves a woman',\n",
              "  'ARTIST': 'Percy Sledge',\n",
              "  'COUNTRY': 'USA',\n",
              "  'COMPANY': 'Atlantic',\n",
              "  'PRICE': '8.70',\n",
              "  'YEAR': '1987'},\n",
              " {'TITLE': 'Black angel',\n",
              "  'ARTIST': 'Savage Rose',\n",
              "  'COUNTRY': 'EU',\n",
              "  'COMPANY': 'Mega',\n",
              "  'PRICE': '10.90',\n",
              "  'YEAR': '1995'},\n",
              " {'TITLE': '1999 Grammy Nominees',\n",
              "  'ARTIST': 'Many',\n",
              "  'COUNTRY': 'USA',\n",
              "  'COMPANY': 'Grammy',\n",
              "  'PRICE': '10.20',\n",
              "  'YEAR': '1999'},\n",
              " {'TITLE': 'For the good times',\n",
              "  'ARTIST': 'Kenny Rogers',\n",
              "  'COUNTRY': 'UK',\n",
              "  'COMPANY': 'Mucik Master',\n",
              "  'PRICE': '8.70',\n",
              "  'YEAR': '1995'},\n",
              " {'TITLE': 'Big Willie style',\n",
              "  'ARTIST': 'Will Smith',\n",
              "  'COUNTRY': 'USA',\n",
              "  'COMPANY': 'Columbia',\n",
              "  'PRICE': '9.90',\n",
              "  'YEAR': '1997'},\n",
              " {'TITLE': 'Tupelo Honey',\n",
              "  'ARTIST': 'Van Morrison',\n",
              "  'COUNTRY': 'UK',\n",
              "  'COMPANY': 'Polydor',\n",
              "  'PRICE': '8.20',\n",
              "  'YEAR': '1971'},\n",
              " {'TITLE': 'Soulsville',\n",
              "  'ARTIST': 'Jorn Hoel',\n",
              "  'COUNTRY': 'Norway',\n",
              "  'COMPANY': 'WEA',\n",
              "  'PRICE': '7.90',\n",
              "  'YEAR': '1996'},\n",
              " {'TITLE': 'The very best of',\n",
              "  'ARTIST': 'Cat Stevens',\n",
              "  'COUNTRY': 'UK',\n",
              "  'COMPANY': 'Island',\n",
              "  'PRICE': '8.90',\n",
              "  'YEAR': '1990'},\n",
              " {'TITLE': 'Stop',\n",
              "  'ARTIST': 'Sam Brown',\n",
              "  'COUNTRY': 'UK',\n",
              "  'COMPANY': 'A and M',\n",
              "  'PRICE': '8.90',\n",
              "  'YEAR': '1988'},\n",
              " {'TITLE': 'Bridge of Spies',\n",
              "  'ARTIST': \"T'Pau\",\n",
              "  'COUNTRY': 'UK',\n",
              "  'COMPANY': 'Siren',\n",
              "  'PRICE': '7.90',\n",
              "  'YEAR': '1987'},\n",
              " {'TITLE': 'Private Dancer',\n",
              "  'ARTIST': 'Tina Turner',\n",
              "  'COUNTRY': 'UK',\n",
              "  'COMPANY': 'Capitol',\n",
              "  'PRICE': '8.90',\n",
              "  'YEAR': '1983'},\n",
              " {'TITLE': 'Midt om natten',\n",
              "  'ARTIST': 'Kim Larsen',\n",
              "  'COUNTRY': 'EU',\n",
              "  'COMPANY': 'Medley',\n",
              "  'PRICE': '7.80',\n",
              "  'YEAR': '1983'},\n",
              " {'TITLE': 'Pavarotti Gala Concert',\n",
              "  'ARTIST': 'Luciano Pavarotti',\n",
              "  'COUNTRY': 'UK',\n",
              "  'COMPANY': 'DECCA',\n",
              "  'PRICE': '9.90',\n",
              "  'YEAR': '1991'},\n",
              " {'TITLE': 'The dock of the bay',\n",
              "  'ARTIST': 'Otis Redding',\n",
              "  'COUNTRY': 'USA',\n",
              "  'COMPANY': 'Stax Records',\n",
              "  'PRICE': '7.90',\n",
              "  'YEAR': '1968'},\n",
              " {'TITLE': 'Picture book',\n",
              "  'ARTIST': 'Simply Red',\n",
              "  'COUNTRY': 'EU',\n",
              "  'COMPANY': 'Elektra',\n",
              "  'PRICE': '7.20',\n",
              "  'YEAR': '1985'},\n",
              " {'TITLE': 'Red',\n",
              "  'ARTIST': 'The Communards',\n",
              "  'COUNTRY': 'UK',\n",
              "  'COMPANY': 'London',\n",
              "  'PRICE': '7.80',\n",
              "  'YEAR': '1987'},\n",
              " {'TITLE': 'Unchain my heart',\n",
              "  'ARTIST': 'Joe Cocker',\n",
              "  'COUNTRY': 'USA',\n",
              "  'COMPANY': 'EMI',\n",
              "  'PRICE': '8.20',\n",
              "  'YEAR': '1987'}]"
            ]
          },
          "metadata": {},
          "execution_count": 160
        }
      ]
    },
    {
      "cell_type": "code",
      "source": [
        "import json"
      ],
      "metadata": {
        "id": "W6jkjIK3v8Ph"
      },
      "execution_count": 162,
      "outputs": []
    },
    {
      "cell_type": "code",
      "source": [
        "with open(\"cd.json\",\"w\") as op:\n",
        "  json.dump(dataLst,op)"
      ],
      "metadata": {
        "id": "Y0YkCbWoyztK"
      },
      "execution_count": 163,
      "outputs": []
    },
    {
      "cell_type": "code",
      "source": [
        "with open(\"cd.json\",\"r\") as ip:\n",
        "  data =json.load(ip)\n",
        "  print(data)"
      ],
      "metadata": {
        "colab": {
          "base_uri": "https://localhost:8080/"
        },
        "id": "vGu_zja_y8rP",
        "outputId": "1cd66687-0778-43c0-c99e-e9da0a453e74"
      },
      "execution_count": 164,
      "outputs": [
        {
          "output_type": "stream",
          "name": "stdout",
          "text": [
            "[{'TITLE': 'Empire Burlesque', 'ARTIST': 'Bob Dylan', 'COUNTRY': 'USA', 'COMPANY': 'Columbia', 'PRICE': '10.90', 'YEAR': '1985'}, {'TITLE': 'Hide your heart', 'ARTIST': 'Bonnie Tyler', 'COUNTRY': 'UK', 'COMPANY': 'CBS Records', 'PRICE': '9.90', 'YEAR': '1988'}, {'TITLE': 'Greatest Hits', 'ARTIST': 'Dolly Parton', 'COUNTRY': 'USA', 'COMPANY': 'RCA', 'PRICE': '9.90', 'YEAR': '1982'}, {'TITLE': 'Still got the blues', 'ARTIST': 'Gary Moore', 'COUNTRY': 'UK', 'COMPANY': 'Virgin records', 'PRICE': '10.20', 'YEAR': '1990'}, {'TITLE': 'Eros', 'ARTIST': 'Eros Ramazzotti', 'COUNTRY': 'EU', 'COMPANY': 'BMG', 'PRICE': '9.90', 'YEAR': '1997'}, {'TITLE': 'One night only', 'ARTIST': 'Bee Gees', 'COUNTRY': 'UK', 'COMPANY': 'Polydor', 'PRICE': '10.90', 'YEAR': '1998'}, {'TITLE': 'Sylvias Mother', 'ARTIST': 'Dr.Hook', 'COUNTRY': 'UK', 'COMPANY': 'CBS', 'PRICE': '8.10', 'YEAR': '1973'}, {'TITLE': 'Maggie May', 'ARTIST': 'Rod Stewart', 'COUNTRY': 'UK', 'COMPANY': 'Pickwick', 'PRICE': '8.50', 'YEAR': '1990'}, {'TITLE': 'Romanza', 'ARTIST': 'Andrea Bocelli', 'COUNTRY': 'EU', 'COMPANY': 'Polydor', 'PRICE': '10.80', 'YEAR': '1996'}, {'TITLE': 'When a man loves a woman', 'ARTIST': 'Percy Sledge', 'COUNTRY': 'USA', 'COMPANY': 'Atlantic', 'PRICE': '8.70', 'YEAR': '1987'}, {'TITLE': 'Black angel', 'ARTIST': 'Savage Rose', 'COUNTRY': 'EU', 'COMPANY': 'Mega', 'PRICE': '10.90', 'YEAR': '1995'}, {'TITLE': '1999 Grammy Nominees', 'ARTIST': 'Many', 'COUNTRY': 'USA', 'COMPANY': 'Grammy', 'PRICE': '10.20', 'YEAR': '1999'}, {'TITLE': 'For the good times', 'ARTIST': 'Kenny Rogers', 'COUNTRY': 'UK', 'COMPANY': 'Mucik Master', 'PRICE': '8.70', 'YEAR': '1995'}, {'TITLE': 'Big Willie style', 'ARTIST': 'Will Smith', 'COUNTRY': 'USA', 'COMPANY': 'Columbia', 'PRICE': '9.90', 'YEAR': '1997'}, {'TITLE': 'Tupelo Honey', 'ARTIST': 'Van Morrison', 'COUNTRY': 'UK', 'COMPANY': 'Polydor', 'PRICE': '8.20', 'YEAR': '1971'}, {'TITLE': 'Soulsville', 'ARTIST': 'Jorn Hoel', 'COUNTRY': 'Norway', 'COMPANY': 'WEA', 'PRICE': '7.90', 'YEAR': '1996'}, {'TITLE': 'The very best of', 'ARTIST': 'Cat Stevens', 'COUNTRY': 'UK', 'COMPANY': 'Island', 'PRICE': '8.90', 'YEAR': '1990'}, {'TITLE': 'Stop', 'ARTIST': 'Sam Brown', 'COUNTRY': 'UK', 'COMPANY': 'A and M', 'PRICE': '8.90', 'YEAR': '1988'}, {'TITLE': 'Bridge of Spies', 'ARTIST': \"T'Pau\", 'COUNTRY': 'UK', 'COMPANY': 'Siren', 'PRICE': '7.90', 'YEAR': '1987'}, {'TITLE': 'Private Dancer', 'ARTIST': 'Tina Turner', 'COUNTRY': 'UK', 'COMPANY': 'Capitol', 'PRICE': '8.90', 'YEAR': '1983'}, {'TITLE': 'Midt om natten', 'ARTIST': 'Kim Larsen', 'COUNTRY': 'EU', 'COMPANY': 'Medley', 'PRICE': '7.80', 'YEAR': '1983'}, {'TITLE': 'Pavarotti Gala Concert', 'ARTIST': 'Luciano Pavarotti', 'COUNTRY': 'UK', 'COMPANY': 'DECCA', 'PRICE': '9.90', 'YEAR': '1991'}, {'TITLE': 'The dock of the bay', 'ARTIST': 'Otis Redding', 'COUNTRY': 'USA', 'COMPANY': 'Stax Records', 'PRICE': '7.90', 'YEAR': '1968'}, {'TITLE': 'Picture book', 'ARTIST': 'Simply Red', 'COUNTRY': 'EU', 'COMPANY': 'Elektra', 'PRICE': '7.20', 'YEAR': '1985'}, {'TITLE': 'Red', 'ARTIST': 'The Communards', 'COUNTRY': 'UK', 'COMPANY': 'London', 'PRICE': '7.80', 'YEAR': '1987'}, {'TITLE': 'Unchain my heart', 'ARTIST': 'Joe Cocker', 'COUNTRY': 'USA', 'COMPANY': 'EMI', 'PRICE': '8.20', 'YEAR': '1987'}]\n"
          ]
        }
      ]
    },
    {
      "cell_type": "code",
      "source": [
        "import pandas as pd"
      ],
      "metadata": {
        "id": "g1Jqa5SxzBl7"
      },
      "execution_count": 165,
      "outputs": []
    },
    {
      "cell_type": "code",
      "source": [
        "df = pd.read_xml(\"https://www.w3schools.com/xml/cd_catalog.xml\")"
      ],
      "metadata": {
        "id": "Ow9wGDZNz_RW"
      },
      "execution_count": 170,
      "outputs": []
    },
    {
      "cell_type": "code",
      "source": [
        "df.to_csv(\"cd1.csv\",index=False)"
      ],
      "metadata": {
        "id": "knzi30o30ETT"
      },
      "execution_count": 174,
      "outputs": []
    },
    {
      "cell_type": "code",
      "source": [
        "df.to_excel(\"cd1.xlsx\")"
      ],
      "metadata": {
        "id": "55R8930w0Hae"
      },
      "execution_count": 172,
      "outputs": []
    },
    {
      "cell_type": "code",
      "source": [
        "df.to_json(\"cd1.json\")"
      ],
      "metadata": {
        "id": "41F9zUn00KVJ"
      },
      "execution_count": 173,
      "outputs": []
    },
    {
      "cell_type": "code",
      "source": [
        "help(df.to_json)"
      ],
      "metadata": {
        "colab": {
          "base_uri": "https://localhost:8080/"
        },
        "id": "A5miF57R0NDx",
        "outputId": "53b99d4b-292f-4a9b-ade7-2d2370d8a1f8"
      },
      "execution_count": 175,
      "outputs": [
        {
          "output_type": "stream",
          "name": "stdout",
          "text": [
            "Help on method to_json in module pandas.core.generic:\n",
            "\n",
            "to_json(path_or_buf: 'FilePath | WriteBuffer[bytes] | WriteBuffer[str] | None' = None, *, orient: \"Literal['split', 'records', 'index', 'table', 'columns', 'values'] | None\" = None, date_format: 'str | None' = None, double_precision: 'int' = 10, force_ascii: 'bool_t' = True, date_unit: 'TimeUnit' = 'ms', default_handler: 'Callable[[Any], JSONSerializable] | None' = None, lines: 'bool_t' = False, compression: 'CompressionOptions' = 'infer', index: 'bool_t | None' = None, indent: 'int | None' = None, storage_options: 'StorageOptions | None' = None, mode: \"Literal['a', 'w']\" = 'w') -> 'str | None' method of pandas.core.frame.DataFrame instance\n",
            "    Convert the object to a JSON string.\n",
            "    \n",
            "    Note NaN's and None will be converted to null and datetime objects\n",
            "    will be converted to UNIX timestamps.\n",
            "    \n",
            "    Parameters\n",
            "    ----------\n",
            "    path_or_buf : str, path object, file-like object, or None, default None\n",
            "        String, path object (implementing os.PathLike[str]), or file-like\n",
            "        object implementing a write() function. If None, the result is\n",
            "        returned as a string.\n",
            "    orient : str\n",
            "        Indication of expected JSON string format.\n",
            "    \n",
            "        * Series:\n",
            "    \n",
            "            - default is 'index'\n",
            "            - allowed values are: {'split', 'records', 'index', 'table'}.\n",
            "    \n",
            "        * DataFrame:\n",
            "    \n",
            "            - default is 'columns'\n",
            "            - allowed values are: {'split', 'records', 'index', 'columns',\n",
            "              'values', 'table'}.\n",
            "    \n",
            "        * The format of the JSON string:\n",
            "    \n",
            "            - 'split' : dict like {'index' -> [index], 'columns' -> [columns],\n",
            "              'data' -> [values]}\n",
            "            - 'records' : list like [{column -> value}, ... , {column -> value}]\n",
            "            - 'index' : dict like {index -> {column -> value}}\n",
            "            - 'columns' : dict like {column -> {index -> value}}\n",
            "            - 'values' : just the values array\n",
            "            - 'table' : dict like {'schema': {schema}, 'data': {data}}\n",
            "    \n",
            "            Describing the data, where data component is like ``orient='records'``.\n",
            "    \n",
            "    date_format : {None, 'epoch', 'iso'}\n",
            "        Type of date conversion. 'epoch' = epoch milliseconds,\n",
            "        'iso' = ISO8601. The default depends on the `orient`. For\n",
            "        ``orient='table'``, the default is 'iso'. For all other orients,\n",
            "        the default is 'epoch'.\n",
            "    double_precision : int, default 10\n",
            "        The number of decimal places to use when encoding\n",
            "        floating point values. The possible maximal value is 15.\n",
            "        Passing double_precision greater than 15 will raise a ValueError.\n",
            "    force_ascii : bool, default True\n",
            "        Force encoded string to be ASCII.\n",
            "    date_unit : str, default 'ms' (milliseconds)\n",
            "        The time unit to encode to, governs timestamp and ISO8601\n",
            "        precision.  One of 's', 'ms', 'us', 'ns' for second, millisecond,\n",
            "        microsecond, and nanosecond respectively.\n",
            "    default_handler : callable, default None\n",
            "        Handler to call if object cannot otherwise be converted to a\n",
            "        suitable format for JSON. Should receive a single argument which is\n",
            "        the object to convert and return a serialisable object.\n",
            "    lines : bool, default False\n",
            "        If 'orient' is 'records' write out line-delimited json format. Will\n",
            "        throw ValueError if incorrect 'orient' since others are not\n",
            "        list-like.\n",
            "    compression : str or dict, default 'infer'\n",
            "        For on-the-fly compression of the output data. If 'infer' and 'path_or_buf' is\n",
            "        path-like, then detect compression from the following extensions: '.gz',\n",
            "        '.bz2', '.zip', '.xz', '.zst', '.tar', '.tar.gz', '.tar.xz' or '.tar.bz2'\n",
            "        (otherwise no compression).\n",
            "        Set to ``None`` for no compression.\n",
            "        Can also be a dict with key ``'method'`` set\n",
            "        to one of {``'zip'``, ``'gzip'``, ``'bz2'``, ``'zstd'``, ``'xz'``, ``'tar'``} and\n",
            "        other key-value pairs are forwarded to\n",
            "        ``zipfile.ZipFile``, ``gzip.GzipFile``,\n",
            "        ``bz2.BZ2File``, ``zstandard.ZstdCompressor``, ``lzma.LZMAFile`` or\n",
            "        ``tarfile.TarFile``, respectively.\n",
            "        As an example, the following could be passed for faster compression and to create\n",
            "        a reproducible gzip archive:\n",
            "        ``compression={'method': 'gzip', 'compresslevel': 1, 'mtime': 1}``.\n",
            "    \n",
            "        .. versionadded:: 1.5.0\n",
            "            Added support for `.tar` files.\n",
            "    \n",
            "        .. versionchanged:: 1.4.0 Zstandard support.\n",
            "    \n",
            "    index : bool or None, default None\n",
            "        The index is only used when 'orient' is 'split', 'index', 'column',\n",
            "        or 'table'. Of these, 'index' and 'column' do not support\n",
            "        `index=False`.\n",
            "    \n",
            "    indent : int, optional\n",
            "       Length of whitespace used to indent each record.\n",
            "    \n",
            "    storage_options : dict, optional\n",
            "        Extra options that make sense for a particular storage connection, e.g.\n",
            "        host, port, username, password, etc. For HTTP(S) URLs the key-value pairs\n",
            "        are forwarded to ``urllib.request.Request`` as header options. For other\n",
            "        URLs (e.g. starting with \"s3://\", and \"gcs://\") the key-value pairs are\n",
            "        forwarded to ``fsspec.open``. Please see ``fsspec`` and ``urllib`` for more\n",
            "        details, and for more examples on storage options refer `here\n",
            "        <https://pandas.pydata.org/docs/user_guide/io.html?\n",
            "        highlight=storage_options#reading-writing-remote-files>`_.\n",
            "    \n",
            "    mode : str, default 'w' (writing)\n",
            "        Specify the IO mode for output when supplying a path_or_buf.\n",
            "        Accepted args are 'w' (writing) and 'a' (append) only.\n",
            "        mode='a' is only supported when lines is True and orient is 'records'.\n",
            "    \n",
            "    Returns\n",
            "    -------\n",
            "    None or str\n",
            "        If path_or_buf is None, returns the resulting json format as a\n",
            "        string. Otherwise returns None.\n",
            "    \n",
            "    See Also\n",
            "    --------\n",
            "    read_json : Convert a JSON string to pandas object.\n",
            "    \n",
            "    Notes\n",
            "    -----\n",
            "    The behavior of ``indent=0`` varies from the stdlib, which does not\n",
            "    indent the output but does insert newlines. Currently, ``indent=0``\n",
            "    and the default ``indent=None`` are equivalent in pandas, though this\n",
            "    may change in a future release.\n",
            "    \n",
            "    ``orient='table'`` contains a 'pandas_version' field under 'schema'.\n",
            "    This stores the version of `pandas` used in the latest revision of the\n",
            "    schema.\n",
            "    \n",
            "    Examples\n",
            "    --------\n",
            "    >>> from json import loads, dumps\n",
            "    >>> df = pd.DataFrame(\n",
            "    ...     [[\"a\", \"b\"], [\"c\", \"d\"]],\n",
            "    ...     index=[\"row 1\", \"row 2\"],\n",
            "    ...     columns=[\"col 1\", \"col 2\"],\n",
            "    ... )\n",
            "    \n",
            "    >>> result = df.to_json(orient=\"split\")\n",
            "    >>> parsed = loads(result)\n",
            "    >>> dumps(parsed, indent=4)  # doctest: +SKIP\n",
            "    {\n",
            "        \"columns\": [\n",
            "            \"col 1\",\n",
            "            \"col 2\"\n",
            "        ],\n",
            "        \"index\": [\n",
            "            \"row 1\",\n",
            "            \"row 2\"\n",
            "        ],\n",
            "        \"data\": [\n",
            "            [\n",
            "                \"a\",\n",
            "                \"b\"\n",
            "            ],\n",
            "            [\n",
            "                \"c\",\n",
            "                \"d\"\n",
            "            ]\n",
            "        ]\n",
            "    }\n",
            "    \n",
            "    Encoding/decoding a Dataframe using ``'records'`` formatted JSON.\n",
            "    Note that index labels are not preserved with this encoding.\n",
            "    \n",
            "    >>> result = df.to_json(orient=\"records\")\n",
            "    >>> parsed = loads(result)\n",
            "    >>> dumps(parsed, indent=4)  # doctest: +SKIP\n",
            "    [\n",
            "        {\n",
            "            \"col 1\": \"a\",\n",
            "            \"col 2\": \"b\"\n",
            "        },\n",
            "        {\n",
            "            \"col 1\": \"c\",\n",
            "            \"col 2\": \"d\"\n",
            "        }\n",
            "    ]\n",
            "    \n",
            "    Encoding/decoding a Dataframe using ``'index'`` formatted JSON:\n",
            "    \n",
            "    >>> result = df.to_json(orient=\"index\")\n",
            "    >>> parsed = loads(result)\n",
            "    >>> dumps(parsed, indent=4)  # doctest: +SKIP\n",
            "    {\n",
            "        \"row 1\": {\n",
            "            \"col 1\": \"a\",\n",
            "            \"col 2\": \"b\"\n",
            "        },\n",
            "        \"row 2\": {\n",
            "            \"col 1\": \"c\",\n",
            "            \"col 2\": \"d\"\n",
            "        }\n",
            "    }\n",
            "    \n",
            "    Encoding/decoding a Dataframe using ``'columns'`` formatted JSON:\n",
            "    \n",
            "    >>> result = df.to_json(orient=\"columns\")\n",
            "    >>> parsed = loads(result)\n",
            "    >>> dumps(parsed, indent=4)  # doctest: +SKIP\n",
            "    {\n",
            "        \"col 1\": {\n",
            "            \"row 1\": \"a\",\n",
            "            \"row 2\": \"c\"\n",
            "        },\n",
            "        \"col 2\": {\n",
            "            \"row 1\": \"b\",\n",
            "            \"row 2\": \"d\"\n",
            "        }\n",
            "    }\n",
            "    \n",
            "    Encoding/decoding a Dataframe using ``'values'`` formatted JSON:\n",
            "    \n",
            "    >>> result = df.to_json(orient=\"values\")\n",
            "    >>> parsed = loads(result)\n",
            "    >>> dumps(parsed, indent=4)  # doctest: +SKIP\n",
            "    [\n",
            "        [\n",
            "            \"a\",\n",
            "            \"b\"\n",
            "        ],\n",
            "        [\n",
            "            \"c\",\n",
            "            \"d\"\n",
            "        ]\n",
            "    ]\n",
            "    \n",
            "    Encoding with Table Schema:\n",
            "    \n",
            "    >>> result = df.to_json(orient=\"table\")\n",
            "    >>> parsed = loads(result)\n",
            "    >>> dumps(parsed, indent=4)  # doctest: +SKIP\n",
            "    {\n",
            "        \"schema\": {\n",
            "            \"fields\": [\n",
            "                {\n",
            "                    \"name\": \"index\",\n",
            "                    \"type\": \"string\"\n",
            "                },\n",
            "                {\n",
            "                    \"name\": \"col 1\",\n",
            "                    \"type\": \"string\"\n",
            "                },\n",
            "                {\n",
            "                    \"name\": \"col 2\",\n",
            "                    \"type\": \"string\"\n",
            "                }\n",
            "            ],\n",
            "            \"primaryKey\": [\n",
            "                \"index\"\n",
            "            ],\n",
            "            \"pandas_version\": \"1.4.0\"\n",
            "        },\n",
            "        \"data\": [\n",
            "            {\n",
            "                \"index\": \"row 1\",\n",
            "                \"col 1\": \"a\",\n",
            "                \"col 2\": \"b\"\n",
            "            },\n",
            "            {\n",
            "                \"index\": \"row 2\",\n",
            "                \"col 1\": \"c\",\n",
            "                \"col 2\": \"d\"\n",
            "            }\n",
            "        ]\n",
            "    }\n",
            "\n"
          ]
        }
      ]
    },
    {
      "cell_type": "code",
      "source": [
        "df.to_html(\"sample.html\")"
      ],
      "metadata": {
        "id": "7Bv8PBSx1eub"
      },
      "execution_count": 176,
      "outputs": []
    },
    {
      "cell_type": "code",
      "source": [
        "df1 = pd.read_html(\"sample.html\")"
      ],
      "metadata": {
        "id": "maLWsYwy7COm"
      },
      "execution_count": 177,
      "outputs": []
    },
    {
      "cell_type": "code",
      "source": [
        "df1"
      ],
      "metadata": {
        "colab": {
          "base_uri": "https://localhost:8080/"
        },
        "id": "bLd5i-FR7g-Q",
        "outputId": "7f0da14b-7406-4918-eb28-51850fa42e42"
      },
      "execution_count": 178,
      "outputs": [
        {
          "output_type": "execute_result",
          "data": {
            "text/plain": [
              "[    Unnamed: 0                     TITLE             ARTIST COUNTRY  \\\n",
              " 0            0          Empire Burlesque          Bob Dylan     USA   \n",
              " 1            1           Hide your heart       Bonnie Tyler      UK   \n",
              " 2            2             Greatest Hits       Dolly Parton     USA   \n",
              " 3            3       Still got the blues         Gary Moore      UK   \n",
              " 4            4                      Eros    Eros Ramazzotti      EU   \n",
              " 5            5            One night only           Bee Gees      UK   \n",
              " 6            6            Sylvias Mother            Dr.Hook      UK   \n",
              " 7            7                Maggie May        Rod Stewart      UK   \n",
              " 8            8                   Romanza     Andrea Bocelli      EU   \n",
              " 9            9  When a man loves a woman       Percy Sledge     USA   \n",
              " 10          10               Black angel        Savage Rose      EU   \n",
              " 11          11      1999 Grammy Nominees               Many     USA   \n",
              " 12          12        For the good times       Kenny Rogers      UK   \n",
              " 13          13          Big Willie style         Will Smith     USA   \n",
              " 14          14              Tupelo Honey       Van Morrison      UK   \n",
              " 15          15                Soulsville          Jorn Hoel  Norway   \n",
              " 16          16          The very best of        Cat Stevens      UK   \n",
              " 17          17                      Stop          Sam Brown      UK   \n",
              " 18          18           Bridge of Spies              T'Pau      UK   \n",
              " 19          19            Private Dancer        Tina Turner      UK   \n",
              " 20          20            Midt om natten         Kim Larsen      EU   \n",
              " 21          21    Pavarotti Gala Concert  Luciano Pavarotti      UK   \n",
              " 22          22       The dock of the bay       Otis Redding     USA   \n",
              " 23          23              Picture book         Simply Red      EU   \n",
              " 24          24                       Red     The Communards      UK   \n",
              " 25          25          Unchain my heart         Joe Cocker     USA   \n",
              " \n",
              "            COMPANY  PRICE  YEAR  \n",
              " 0         Columbia   10.9  1985  \n",
              " 1      CBS Records    9.9  1988  \n",
              " 2              RCA    9.9  1982  \n",
              " 3   Virgin records   10.2  1990  \n",
              " 4              BMG    9.9  1997  \n",
              " 5          Polydor   10.9  1998  \n",
              " 6              CBS    8.1  1973  \n",
              " 7         Pickwick    8.5  1990  \n",
              " 8          Polydor   10.8  1996  \n",
              " 9         Atlantic    8.7  1987  \n",
              " 10            Mega   10.9  1995  \n",
              " 11          Grammy   10.2  1999  \n",
              " 12    Mucik Master    8.7  1995  \n",
              " 13        Columbia    9.9  1997  \n",
              " 14         Polydor    8.2  1971  \n",
              " 15             WEA    7.9  1996  \n",
              " 16          Island    8.9  1990  \n",
              " 17         A and M    8.9  1988  \n",
              " 18           Siren    7.9  1987  \n",
              " 19         Capitol    8.9  1983  \n",
              " 20          Medley    7.8  1983  \n",
              " 21           DECCA    9.9  1991  \n",
              " 22    Stax Records    7.9  1968  \n",
              " 23         Elektra    7.2  1985  \n",
              " 24          London    7.8  1987  \n",
              " 25             EMI    8.2  1987  ]"
            ]
          },
          "metadata": {},
          "execution_count": 178
        }
      ]
    },
    {
      "cell_type": "code",
      "source": [
        "import pandas as pd"
      ],
      "metadata": {
        "id": "7Xp23n2-7hfj"
      },
      "execution_count": 179,
      "outputs": []
    },
    {
      "cell_type": "code",
      "source": [
        "class Converter:\n",
        "  def __init__(self,filepath):\n",
        "    self.filepath=filepath\n",
        "  def exportToHtml(self,htmlPath):\n",
        "    self.df.to_html(htmlPath)\n",
        "  def exportToJson(self,jsonPath):\n",
        "    self.df.to_json(jsonPath)\n",
        "  def exportToExcel(self,excelPath):\n",
        "    self.df.to_excel(excelPath)\n",
        "  def readFromCsv(self):\n",
        "    self.df =pd.read_csv(self.filepath)\n",
        "  def readFromXml(self):\n",
        "    self.df=pd.read_xml(self.filepath)\n",
        "  def readFromExcel(self):\n",
        "    self.df=pd.read_excel(self.filepath)"
      ],
      "metadata": {
        "id": "yhwl5gWN8yHj"
      },
      "execution_count": 180,
      "outputs": []
    },
    {
      "cell_type": "code",
      "source": [
        "converter=Converter(\"https://www.w3schools.com/xml/cd_catalog.xml\")"
      ],
      "metadata": {
        "id": "QLyivB6s9e-C"
      },
      "execution_count": 181,
      "outputs": []
    },
    {
      "cell_type": "code",
      "source": [
        "converter.readFromXml()"
      ],
      "metadata": {
        "id": "NBlM8A7K9jgW"
      },
      "execution_count": 182,
      "outputs": []
    },
    {
      "cell_type": "code",
      "source": [
        "converter.exportToHtml(\"cd.html\")"
      ],
      "metadata": {
        "id": "v4ZvsctB9lzX"
      },
      "execution_count": 183,
      "outputs": []
    },
    {
      "cell_type": "code",
      "source": [
        "csvConverter=Converter(\"https://gist.githubusercontent.com/netj/8836201/raw/6f9306ad21398ea43cba4f7d537619d0e07d5ae3/iris.csv\")"
      ],
      "metadata": {
        "id": "ytiDAD1i9opo"
      },
      "execution_count": 184,
      "outputs": []
    },
    {
      "cell_type": "code",
      "source": [
        "csvConverter.readFromCsv()"
      ],
      "metadata": {
        "id": "uC54eZyl-hU2"
      },
      "execution_count": 185,
      "outputs": []
    },
    {
      "cell_type": "code",
      "source": [
        "csvConverter.exportToJson(\"iris.json\")"
      ],
      "metadata": {
        "id": "Wj5Aeq8j-nkT"
      },
      "execution_count": 186,
      "outputs": []
    },
    {
      "cell_type": "code",
      "source": [
        "def outer1(param1):\n",
        "  print(\"outer function\")\n",
        "  def inner1():\n",
        "    print(\"inner function\")\n",
        "    print(\"Before calling param1\")\n",
        "    param1()\n",
        "    return True\n",
        "  return inner1"
      ],
      "metadata": {
        "id": "w7pZBYlN-r3g"
      },
      "execution_count": 187,
      "outputs": []
    },
    {
      "cell_type": "code",
      "source": [
        "def hello():\n",
        "  print(\"hello\")\n",
        "def welcome():\n",
        "  print(\"welcome\")"
      ],
      "metadata": {
        "id": "Kf18JQAND0ti"
      },
      "execution_count": 188,
      "outputs": []
    },
    {
      "cell_type": "code",
      "source": [
        "hello_outer=outer1(hello)\n"
      ],
      "metadata": {
        "colab": {
          "base_uri": "https://localhost:8080/"
        },
        "id": "mzKlooFbD542",
        "outputId": "d3d33854-b236-42da-f1a5-8ecbcce1d305"
      },
      "execution_count": 189,
      "outputs": [
        {
          "output_type": "stream",
          "name": "stdout",
          "text": [
            "outer function\n"
          ]
        }
      ]
    },
    {
      "cell_type": "code",
      "source": [
        "hello_outer()"
      ],
      "metadata": {
        "colab": {
          "base_uri": "https://localhost:8080/"
        },
        "id": "f7PBaHubD-Wh",
        "outputId": "488abe2a-a9fd-4c46-b78f-47b0d2785aec"
      },
      "execution_count": 190,
      "outputs": [
        {
          "output_type": "stream",
          "name": "stdout",
          "text": [
            "inner function\n",
            "Before calling param1\n",
            "hello\n"
          ]
        },
        {
          "output_type": "execute_result",
          "data": {
            "text/plain": [
              "True"
            ]
          },
          "metadata": {},
          "execution_count": 190
        }
      ]
    },
    {
      "cell_type": "code",
      "source": [
        "welcome_outer=outer1(welcome)\n"
      ],
      "metadata": {
        "colab": {
          "base_uri": "https://localhost:8080/"
        },
        "id": "L8eGvzSYEAN1",
        "outputId": "b992cb89-67e9-4c86-f660-90657cad6e9e"
      },
      "execution_count": 191,
      "outputs": [
        {
          "output_type": "stream",
          "name": "stdout",
          "text": [
            "outer function\n"
          ]
        }
      ]
    },
    {
      "cell_type": "code",
      "source": [
        "welcome_outer()"
      ],
      "metadata": {
        "colab": {
          "base_uri": "https://localhost:8080/"
        },
        "id": "RLv7QgypEFHQ",
        "outputId": "2f7939bf-a726-4bb8-d366-1bb17c426f20"
      },
      "execution_count": 192,
      "outputs": [
        {
          "output_type": "stream",
          "name": "stdout",
          "text": [
            "inner function\n",
            "Before calling param1\n",
            "welcome\n"
          ]
        },
        {
          "output_type": "execute_result",
          "data": {
            "text/plain": [
              "True"
            ]
          },
          "metadata": {},
          "execution_count": 192
        }
      ]
    },
    {
      "cell_type": "code",
      "source": [
        "def multiple(param1,param2):\n",
        "  def inner():\n",
        "    param1()\n",
        "    param2()\n",
        "  return inner"
      ],
      "metadata": {
        "id": "ZV21xYKeEGRG"
      },
      "execution_count": 193,
      "outputs": []
    },
    {
      "cell_type": "code",
      "source": [
        "m =multiple(hello,welcome)"
      ],
      "metadata": {
        "id": "bts2vkH3Ee_u"
      },
      "execution_count": 194,
      "outputs": []
    },
    {
      "cell_type": "code",
      "source": [
        "m()"
      ],
      "metadata": {
        "colab": {
          "base_uri": "https://localhost:8080/"
        },
        "id": "l8rLR5YPEg8i",
        "outputId": "8690cae9-8f98-4a24-ccda-5230635e0216"
      },
      "execution_count": 195,
      "outputs": [
        {
          "output_type": "stream",
          "name": "stdout",
          "text": [
            "hello\n",
            "welcome\n"
          ]
        }
      ]
    },
    {
      "cell_type": "code",
      "source": [],
      "metadata": {
        "id": "mu2bEo__Ehis"
      },
      "execution_count": null,
      "outputs": []
    }
  ]
}